{
  "nbformat": 4,
  "nbformat_minor": 0,
  "metadata": {
    "colab": {
      "provenance": [],
      "gpuType": "T4",
      "authorship_tag": "ABX9TyOLyANn5xV9FeP3Wwo+nk1c",
      "include_colab_link": true
    },
    "kernelspec": {
      "name": "python3",
      "display_name": "Python 3"
    },
    "language_info": {
      "name": "python"
    },
    "accelerator": "GPU"
  },
  "cells": [
    {
      "cell_type": "markdown",
      "metadata": {
        "id": "view-in-github",
        "colab_type": "text"
      },
      "source": [
        "<a href=\"https://colab.research.google.com/github/vivi-sobral/gemini/blob/main/projetovivi.ipynb\" target=\"_parent\"><img src=\"https://colab.research.google.com/assets/colab-badge.svg\" alt=\"Open In Colab\"/></a>"
      ]
    },
    {
      "cell_type": "markdown",
      "source": [
        "Instalando SDK"
      ],
      "metadata": {
        "id": "qguCUgopiGHW"
      }
    },
    {
      "cell_type": "code",
      "execution_count": 1,
      "metadata": {
        "id": "3v7M-bbUgrK0"
      },
      "outputs": [],
      "source": [
        "pip install -q -U google-generativeai\n"
      ]
    },
    {
      "cell_type": "markdown",
      "source": [
        "Importando biblioteca e referenciando API_KEY"
      ],
      "metadata": {
        "id": "u4vza5bAiKS-"
      }
    },
    {
      "cell_type": "code",
      "source": [
        "# Import the Python SDK\n",
        "import google.generativeai as genai\n",
        "# Used to securely store your API key\n",
        "\n",
        "GOOGLE_API_KEY='aqui'\n",
        "genai.configure(api_key=GOOGLE_API_KEY)"
      ],
      "metadata": {
        "id": "g2NVNsL_iWzn"
      },
      "execution_count": 2,
      "outputs": []
    },
    {
      "cell_type": "markdown",
      "source": [
        "Configurações para o modelo"
      ],
      "metadata": {
        "id": "zAQSRnNvi8iX"
      }
    },
    {
      "cell_type": "code",
      "source": [
        "generator_config = {\n",
        "    \"candidate_count\": 1,\n",
        "    \"temperature\": 0.6,\n",
        "    \"top_k\" : 3,\n",
        "    \"top_p\": 0.1\n",
        "}\n",
        "\n",
        "safety_seetings = {\n",
        "    \"HARASSMENT\":\"BLOCK_MEDIUM_AND_ABOVE\",\n",
        "    \"HATE\":\"BLOCK_MEDIUM_AND_ABOVE\",\n",
        "    \"SEXUAL\":\"BLOCK_MEDIUM_AND_ABOVE\",\n",
        "    \"DANGEROUS\":\"BLOCK_MEDIUM_AND_ABOVE\"\n",
        "}"
      ],
      "metadata": {
        "id": "7GPl6xkojB59"
      },
      "execution_count": 3,
      "outputs": []
    },
    {
      "cell_type": "markdown",
      "source": [
        "Instanciando o modelo"
      ],
      "metadata": {
        "id": "0kEJaIlPjn7W"
      }
    },
    {
      "cell_type": "code",
      "source": [
        "model= genai.GenerativeModel(model_name=\"gemini-1.5-pro-latest\",generation_config=generator_config,safety_settings=safety_seetings)"
      ],
      "metadata": {
        "id": "__RB6gRcjrap"
      },
      "execution_count": 4,
      "outputs": []
    },
    {
      "cell_type": "markdown",
      "source": [
        "Dados de entrada para geração de conteúdo"
      ],
      "metadata": {
        "id": "MKNZkI4sl4X4"
      }
    },
    {
      "cell_type": "code",
      "source": [
        "print(\"Olá! Vamos nessa jornada juntos? Quero oferecer o melhor cardapio e menor desperdicio para você nas compras dessa semana! Vem comigo! Vamos montar um cardápio para almoço e jantar.\")\n",
        "prompt1 = input(\"Vamos começar informando o número de adultos (14 anos ou mais). Quantos adultos farão as refeições nessa semana?\")\n",
        "prompt2 = input(\"Agora vamos pegar informações de crianças (3 a 13 anos). Quantos crianças farão as refeições nessa semana?\")\n",
        "prompt3 = input(\"Deixa eu conhecer um pouco mais de vocês. Poderia listar os alimentos que vocês não gostam de comer ou tenha alguma restrição. Caso nao tenha então deixe em branco.\")\n",
        "prompt4 = input(\"Deseja incluir algum tipo de sobremesa? Digite sim ou nao.\")\n",
        "while prompt4.upper() not in ('SIM','NÃO','NAO'):\n",
        "  prompt4 = input(\"Deseja incluir algum tipo de sobremesa? Digite sim ou nao.\")\n",
        "\n",
        "prompt1\n",
        "prompt2\n",
        "prompt3\n",
        "prompt4"
      ],
      "metadata": {
        "colab": {
          "base_uri": "https://localhost:8080/",
          "height": 142
        },
        "id": "4Yg2GtAkl3JI",
        "outputId": "8d12bed6-788c-4a7f-e50e-422f5b37e495"
      },
      "execution_count": 5,
      "outputs": [
        {
          "name": "stdout",
          "output_type": "stream",
          "text": [
            "Olá! Vamos nessa jornada juntos? Quero oferecer o melhor cardapio e menor desperdicio para você nas compras dessa semana! Vem comigo! Vamos montar um cardápio para almoço e jantar.\n",
            "Vamos começar informando o número de adultos (14 anos ou mais). Quantos adultos farão as refeições nessa semana?1\n",
            "Agora vamos pegar informações de crianças (3 a 13 anos). Quantos crianças farão as refeições nessa semana?0\n",
            "Deixa eu conhecer um pouco mais de vocês. Poderia listar os alimentos que vocês não gostam de comer ou tenha alguma restrição. Caso nao tenha então deixe em branco.\n",
            "Deseja incluir algum tipo de sobremesa? Digite sim ou nao.não\n"
          ]
        },
        {
          "output_type": "execute_result",
          "data": {
            "text/plain": [
              "'não'"
            ],
            "application/vnd.google.colaboratory.intrinsic+json": {
              "type": "string"
            }
          },
          "metadata": {},
          "execution_count": 5
        }
      ]
    },
    {
      "cell_type": "markdown",
      "source": [
        "Verificar informação de entrada para a geração do prompt"
      ],
      "metadata": {
        "id": "VO-SjDoWnriw"
      }
    },
    {
      "cell_type": "code",
      "source": [
        "prompt_ia = f\"Você é responsável por montar o cardápio e realizar a compra do produtos no supermercado para esse cardápio. O cardápio será para uma familia e essa familia é composta por {prompt1} adultos e {prompt2} crianças.\"\n",
        "if prompt3 != '':\n",
        "  prompt_ia = prompt_ia + f' No cardápio não será aceito: {prompt3} e nem derivados de {prompt3}.'\n",
        "if prompt4.upper() == 'SIM':\n",
        "  prompt_ia = prompt_ia + ' Inclua alguma sobremesa que seja de preferencia de fácil execução.'\n",
        "\n",
        "prompt_ia = prompt_ia + ' Monte um cardapio para almoço e jantar de segunda-feira a sexta-feira para essa familia. Os pratos sugeridos não podem se repetir na mesma semana. Caso o número de crianças seja maior que 0 então a refeição deve conter legumes ou verduras todos os dias. As sugestões devem ser de preparo em no máximo 1 hora. Ao final, exiba esse cardapio e gere a lista do supermercado com as respectivas quantidades para esse cardápio.'\n",
        "prompt_ia"
      ],
      "metadata": {
        "colab": {
          "base_uri": "https://localhost:8080/",
          "height": 87
        },
        "id": "pWjNGMIWoBUB",
        "outputId": "ecd3473e-1ddd-40f3-9a9b-a5fc27a63f91"
      },
      "execution_count": 6,
      "outputs": [
        {
          "output_type": "execute_result",
          "data": {
            "text/plain": [
              "'Você é responsável por montar o cardápio e realizar a compra do produtos no supermercado para esse cardápio. O cardápio será para uma familia e essa familia é composta por 1 adultos e 0 crianças. Monte um cardapio para almoço e jantar de segunda-feira a sexta-feira para essa familia. Os pratos sugeridos não podem se repetir na mesma semana. Caso o número de crianças seja maior que 0 então a refeição deve conter legumes ou verduras todos os dias. As sugestões devem ser de preparo em no máximo 1 hora. Ao final, exiba esse cardapio e gere a lista do supermercado com as respectivas quantidades para esse cardápio.'"
            ],
            "application/vnd.google.colaboratory.intrinsic+json": {
              "type": "string"
            }
          },
          "metadata": {},
          "execution_count": 6
        }
      ]
    },
    {
      "cell_type": "markdown",
      "source": [],
      "metadata": {
        "id": "4oWXlYqfh0Yi"
      }
    },
    {
      "cell_type": "markdown",
      "source": [
        "Gerar..."
      ],
      "metadata": {
        "id": "63QTKek_qA0F"
      }
    },
    {
      "cell_type": "code",
      "source": [
        "chat = model.start_chat(history=[])\n",
        "import pprint\n",
        "while prompt_ia.upper() != 'FIM':\n",
        "  response = chat.send_message(prompt_ia)\n",
        "  print(response.text)\n",
        "  prompt_ia = input(\"Deseja modificar algo? Caso esteja satisfeito digite a palavra Fim: \")"
      ],
      "metadata": {
        "colab": {
          "base_uri": "https://localhost:8080/",
          "height": 1000
        },
        "id": "6b-U1LjlqxcV",
        "outputId": "79659c97-8d5a-41f9-d3d9-0485a58a0f98"
      },
      "execution_count": 7,
      "outputs": [
        {
          "name": "stdout",
          "output_type": "stream",
          "text": [
            "## Cardápio Semanal para 1 Adulto (sem crianças):\n",
            "\n",
            "**Segunda-feira:**\n",
            "\n",
            "* Almoço: Frango grelhado com salada colorida (alface, tomate, cebola, cenoura ralada).\n",
            "* Jantar: Omelete com queijo e espinafre.\n",
            "\n",
            "**Terça-feira:**\n",
            "\n",
            "* Almoço: Salada de macarrão com atum, milho e ervilhas.\n",
            "* Jantar: Sopa de lentilha com linguiça calabresa.\n",
            "\n",
            "**Quarta-feira:**\n",
            "\n",
            "* Almoço: Carne moída com purê de batata.\n",
            "* Jantar: Pizza de frigideira com queijo e tomate.\n",
            "\n",
            "**Quinta-feira:**\n",
            "\n",
            "* Almoço: Peixe assado com legumes salteados (abobrinha, brócolis, cenoura).\n",
            "* Jantar: Hambúrguer caseiro no pão integral com salada.\n",
            "\n",
            "**Sexta-feira:**\n",
            "\n",
            "* Almoço: Strogonoff de frango com arroz branco.\n",
            "* Jantar: Macarrão à carbonara.\n",
            "\n",
            "\n",
            "## Lista de Compras:\n",
            "\n",
            "**Carnes:**\n",
            "\n",
            "* 500g de frango em filés\n",
            "* 300g de carne moída\n",
            "* 200g de linguiça calabresa\n",
            "* 2 filés de peixe (tipo tilápia ou pescada)\n",
            "* 2 hambúrgueres (ou carne para preparar)\n",
            "\n",
            "**Legumes e Verduras:**\n",
            "\n",
            "* 1 pé de alface\n",
            "* 1 kg de tomate\n",
            "* 1 cebola grande\n",
            "* 2 cenouras\n",
            "* 1 abobrinha\n",
            "* 1 brócolis\n",
            "* 1 lata de milho verde\n",
            "* 1 lata de ervilha\n",
            "* 1 maço de espinafre\n",
            "* 2 batatas grandes\n",
            "\n",
            "**Outros:**\n",
            "\n",
            "* 1 pacote de macarrão\n",
            "* 1 lata de atum\n",
            "* 250g de queijo mussarela\n",
            "* 1 pacote de pão integral\n",
            "* 1 pacote de massa de pizza pronta\n",
            "* 1 caixa de molho de tomate\n",
            "* 1 lata de creme de leite\n",
            "* 1 pacote de lentilha\n",
            "* Ovos (6 unidades)\n",
            "* Azeite\n",
            "* Sal\n",
            "* Pimenta do reino\n",
            "* Alho\n",
            "* Limão\n",
            "\n",
            "**Observações:**\n",
            "\n",
            "* As quantidades podem ser ajustadas de acordo com a sua preferência e apetite.\n",
            "* A lista não inclui itens básicos de cozinha, como óleo, sal, açúcar, etc.\n",
            "* Você pode adicionar outros temperos e condimentos de sua preferência.\n",
            "* As receitas podem ser facilmente encontradas na internet.\n",
            "\n",
            "Espero que este cardápio e lista de compras sejam úteis para você!\n",
            "Deseja modificar algo? Caso esteja satisfeito digite a palavra Fim: não gosto de macarrão\n",
            "## Cardápio Semanal para 1 Adulto (sem crianças e sem macarrão):\n",
            "\n",
            "**Segunda-feira:**\n",
            "\n",
            "* Almoço: Frango grelhado com salada colorida (alface, tomate, cebola, cenoura ralada) e purê de batata doce.\n",
            "* Jantar: Omelete com queijo e espinafre.\n",
            "\n",
            "**Terça-feira:**\n",
            "\n",
            "* Almoço: Quibe de forno com salada de pepino e iogurte.\n",
            "* Jantar: Sopa de lentilha com linguiça calabresa.\n",
            "\n",
            "**Quarta-feira:**\n",
            "\n",
            "* Almoço: Carne moída com purê de batata.\n",
            "* Jantar: Pizza de frigideira com queijo e tomate.\n",
            "\n",
            "**Quinta-feira:**\n",
            "\n",
            "* Almoço: Peixe assado com legumes salteados (abobrinha, brócolis, cenoura).\n",
            "* Jantar: Hambúrguer caseiro no pão integral com salada.\n",
            "\n",
            "**Sexta-feira:**\n",
            "\n",
            "* Almoço: Strogonoff de frango com arroz branco.\n",
            "* Jantar: Risoto de camarão.\n",
            "\n",
            "\n",
            "## Lista de Compras:\n",
            "\n",
            "**Carnes:**\n",
            "\n",
            "* 500g de frango em filés\n",
            "* 300g de carne moída\n",
            "* 200g de linguiça calabresa\n",
            "* 2 filés de peixe (tipo tilápia ou pescada)\n",
            "* 2 hambúrgueres (ou carne para preparar)\n",
            "* 200g de carne moída para quibe\n",
            "* 200g de camarão\n",
            "\n",
            "**Legumes e Verduras:**\n",
            "\n",
            "* 1 pé de alface\n",
            "* 1 kg de tomate\n",
            "* 1 cebola grande\n",
            "* 2 cenouras\n",
            "* 1 abobrinha\n",
            "* 1 brócolis\n",
            "* 1 pepino\n",
            "* 1 maço de espinafre\n",
            "* 2 batatas grandes\n",
            "* 2 batatas doces médias\n",
            "\n",
            "**Outros:**\n",
            "\n",
            "* 1 lata de atum\n",
            "* 250g de queijo mussarela\n",
            "* 1 pacote de pão integral\n",
            "* 1 pacote de massa de pizza pronta\n",
            "* 1 caixa de molho de tomate\n",
            "* 1 lata de creme de leite\n",
            "* 1 pacote de lentilha\n",
            "* Ovos (6 unidades)\n",
            "* Azeite\n",
            "* Sal\n",
            "* Pimenta do reino\n",
            "* Alho\n",
            "* Limão\n",
            "* Iogurte natural\n",
            "* Arroz\n",
            "* Trigo para quibe\n",
            "\n",
            "**Observações:**\n",
            "\n",
            "* As quantidades podem ser ajustadas de acordo com a sua preferência e apetite.\n",
            "* A lista não inclui itens básicos de cozinha, como óleo, sal, açúcar, etc.\n",
            "* Você pode adicionar outros temperos e condimentos de sua preferência.\n",
            "* As receitas podem ser facilmente encontradas na internet.\n",
            "\n",
            "Espero que este cardápio e lista de compras, agora sem macarrão, sejam úteis para você!\n",
            "Deseja modificar algo? Caso esteja satisfeito digite a palavra Fim: fim\n"
          ]
        }
      ]
    },
    {
      "cell_type": "markdown",
      "source": [
        "# Nova secção"
      ],
      "metadata": {
        "id": "KHZlRGXNwrtq"
      }
    }
  ]
}